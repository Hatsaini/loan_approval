{
 "cells": [
  {
   "cell_type": "markdown",
   "metadata": {
    "id": "n0ZKqZaTWkpg"
   },
   "source": [
    "# Portfolio Part 3 - Analysis of Loan Approval Data (2024 S2)"
   ]
  },
  {
   "cell_type": "markdown",
   "metadata": {
    "id": "O9R7rVmlXaMX"
   },
   "source": [
    "## Task background\n",
    "In this Portfolio task, you will work on a new dataset named 'Loan Approval' which is a modified version from a synthetic Dataset for Risk Assessment and Loan Approval Modeling (many thanks to LORENZO ZOPPELLETTO for the sharing of this dataset). This dataset comprises 20,000 records of personal and financial data, designed to facilitate the development of predictive models for risk assessment and loan approval. In this portfolio part, you are mainly required to train classification models to determine the outcome of loan approval, indicating whether an applicant is likely to be approved or denied for a loan.\n",
    "\n",
    "The dataset includes diverse features such as demographic information, credit history, employment status, income levels, existing debt, and other relevant financial metrics, providing a comprehensive foundation for sophisticated data-driven analysis and decision-making.\n",
    "\n",
    "The dataset includes the following columns:\n",
    "\n",
    "|Column|Meaning|\n",
    "|:-----|:-----|\n",
    "|ApplicationDate| Loan application date|\n",
    "|Age| Applicant's age|\n",
    "|AnnualIncome| Yearly income|\n",
    "|CreditScore| Creditworthiness score|\n",
    "|EmploymentStatus| Job situation|\n",
    "|EducationLevel| Highest education attained|\n",
    "|Experience| Work experience|\n",
    "|LoanAmount| Requested loan size|\n",
    "|LoanDuration| Loan repayment period|\n",
    "|MaritalStatus| Applicant's marital state|\n",
    "|NumberOfDependents| Number of dependents|\n",
    "|HomeOwnershipStatus| Homeownership type|\n",
    "|MonthlyDebtPayments| Monthly debt obligations|\n",
    "|CreditCardUtilizationRate| Credit card usage percentage|\n",
    "|NumberOfOpenCreditLines| Active credit lines|\n",
    "|NumberOfCreditInquiries| Credit checks count|\n",
    "|DebtToIncomeRatio| Debt to income proportion|\n",
    "|BankruptcyHistory| Bankruptcy records|\n",
    "|LoanPurpose| Reason for loan|\n",
    "|PreviousLoanDefaults| Prior loan defaults|\n",
    "|PaymentHistory| Past payment behavior|\n",
    "|LengthOfCreditHistory| Credit history duration|\n",
    "|SavingsAccountBalance| Savings account amount|\n",
    "|CheckingAccountBalance| Checking account funds|\n",
    "|TotalAssets| Total owned assets|\n",
    "|TotalLiabilities| Total owed debts|\n",
    "|MonthlyIncome| Income per month|\n",
    "|UtilityBillsPaymentHistory| Utility payment record|\n",
    "|JobTenure| Job duration|\n",
    "|NetWorth| Total financial worth|\n",
    "|BaseInterestRate| Starting interest rate|\n",
    "|InterestRate| Applied interest rate|\n",
    "|MonthlyLoanPayment| Monthly loan payment|\n",
    "|TotalDebtToIncomeRatio| Total debt against income|\n",
    "|LoanApproved| Loan approval status|\n",
    "|RiskScore| Risk assessment score|"
   ]
  },
  {
   "cell_type": "markdown",
   "metadata": {
    "id": "o0VDQbC-es_8"
   },
   "source": [
    "## Task Description\n",
    "Your high level goal in this notebook is to build and evaluate predictive models for 'loan approval' from other available features. More specifically, you need to complete the following major tasks:\n",
    "\n",
    "1. Clean and preprocess the dataset for the downstream data analysis tasks.\n",
    "\n",
    "2. Build and evaluate logistic regression models with this datasets.\n",
    "\n",
    "3. Build and evaluate KNN models with this datasets.\n",
    "\n",
    "Note 1: While the main steps of each task have been given with the requirements, you should learn how to properly organise and comment your notebook by yourself to ensure that your notebook file is professional and readable.\n",
    "\n",
    "Note 2: You will be evaluated on the accuracy of the model, the process that you produce the results,  and your clear description and justification of your implementation. So, try your best to comment your source code to showing your understanding and critical thinking.\n"
   ]
  },
  {
   "cell_type": "markdown",
   "metadata": {},
   "source": [
    "## Load the dataset and show the basic information"
   ]
  },
  {
   "cell_type": "code",
   "execution_count": 347,
   "metadata": {},
   "outputs": [
    {
     "data": {
      "text/html": [
       "<div>\n",
       "<style scoped>\n",
       "    .dataframe tbody tr th:only-of-type {\n",
       "        vertical-align: middle;\n",
       "    }\n",
       "\n",
       "    .dataframe tbody tr th {\n",
       "        vertical-align: top;\n",
       "    }\n",
       "\n",
       "    .dataframe thead th {\n",
       "        text-align: right;\n",
       "    }\n",
       "</style>\n",
       "<table border=\"1\" class=\"dataframe\">\n",
       "  <thead>\n",
       "    <tr style=\"text-align: right;\">\n",
       "      <th></th>\n",
       "      <th>ApplicationDate</th>\n",
       "      <th>Age</th>\n",
       "      <th>AnnualIncome</th>\n",
       "      <th>CreditScore</th>\n",
       "      <th>EmploymentStatus</th>\n",
       "      <th>EducationLevel</th>\n",
       "      <th>Experience</th>\n",
       "      <th>LoanAmount</th>\n",
       "      <th>LoanDuration</th>\n",
       "      <th>MaritalStatus</th>\n",
       "      <th>...</th>\n",
       "      <th>MonthlyIncome</th>\n",
       "      <th>UtilityBillsPaymentHistory</th>\n",
       "      <th>JobTenure</th>\n",
       "      <th>NetWorth</th>\n",
       "      <th>BaseInterestRate</th>\n",
       "      <th>InterestRate</th>\n",
       "      <th>MonthlyLoanPayment</th>\n",
       "      <th>TotalDebtToIncomeRatio</th>\n",
       "      <th>LoanApproved</th>\n",
       "      <th>RiskScore</th>\n",
       "    </tr>\n",
       "  </thead>\n",
       "  <tbody>\n",
       "    <tr>\n",
       "      <th>0</th>\n",
       "      <td>2018-01-01</td>\n",
       "      <td>45.0</td>\n",
       "      <td>39948</td>\n",
       "      <td>617</td>\n",
       "      <td>Employed</td>\n",
       "      <td>Master</td>\n",
       "      <td>22</td>\n",
       "      <td>13152</td>\n",
       "      <td>48</td>\n",
       "      <td>Married</td>\n",
       "      <td>...</td>\n",
       "      <td>3329.000000</td>\n",
       "      <td>0.724972</td>\n",
       "      <td>11</td>\n",
       "      <td>126928</td>\n",
       "      <td>0.199652</td>\n",
       "      <td>0.227590</td>\n",
       "      <td>419.805992</td>\n",
       "      <td>0.181077</td>\n",
       "      <td>0</td>\n",
       "      <td>NaN</td>\n",
       "    </tr>\n",
       "    <tr>\n",
       "      <th>1</th>\n",
       "      <td>2018-01-02</td>\n",
       "      <td>38.0</td>\n",
       "      <td>39709</td>\n",
       "      <td>628</td>\n",
       "      <td>Employed</td>\n",
       "      <td>Associate</td>\n",
       "      <td>15</td>\n",
       "      <td>26045</td>\n",
       "      <td>48</td>\n",
       "      <td>Single</td>\n",
       "      <td>...</td>\n",
       "      <td>3309.083333</td>\n",
       "      <td>0.935132</td>\n",
       "      <td>3</td>\n",
       "      <td>43609</td>\n",
       "      <td>0.207045</td>\n",
       "      <td>0.201077</td>\n",
       "      <td>794.054238</td>\n",
       "      <td>0.389852</td>\n",
       "      <td>0</td>\n",
       "      <td>52.0</td>\n",
       "    </tr>\n",
       "    <tr>\n",
       "      <th>2</th>\n",
       "      <td>2018-01-03</td>\n",
       "      <td>47.0</td>\n",
       "      <td>40724</td>\n",
       "      <td>570</td>\n",
       "      <td>Employed</td>\n",
       "      <td>Bachelor</td>\n",
       "      <td>26</td>\n",
       "      <td>17627</td>\n",
       "      <td>36</td>\n",
       "      <td>Married</td>\n",
       "      <td>...</td>\n",
       "      <td>3393.666667</td>\n",
       "      <td>0.872241</td>\n",
       "      <td>6</td>\n",
       "      <td>5205</td>\n",
       "      <td>0.217627</td>\n",
       "      <td>0.212548</td>\n",
       "      <td>666.406688</td>\n",
       "      <td>0.462157</td>\n",
       "      <td>0</td>\n",
       "      <td>NaN</td>\n",
       "    </tr>\n",
       "    <tr>\n",
       "      <th>3</th>\n",
       "      <td>2018-01-04</td>\n",
       "      <td>58.0</td>\n",
       "      <td>69084</td>\n",
       "      <td>545</td>\n",
       "      <td>Employed</td>\n",
       "      <td>High School</td>\n",
       "      <td>34</td>\n",
       "      <td>37898</td>\n",
       "      <td>96</td>\n",
       "      <td>Single</td>\n",
       "      <td>...</td>\n",
       "      <td>5757.000000</td>\n",
       "      <td>0.896155</td>\n",
       "      <td>5</td>\n",
       "      <td>99452</td>\n",
       "      <td>0.300398</td>\n",
       "      <td>0.300911</td>\n",
       "      <td>1047.506980</td>\n",
       "      <td>0.313098</td>\n",
       "      <td>0</td>\n",
       "      <td>NaN</td>\n",
       "    </tr>\n",
       "    <tr>\n",
       "      <th>4</th>\n",
       "      <td>2018-01-05</td>\n",
       "      <td>37.0</td>\n",
       "      <td>103264</td>\n",
       "      <td>594</td>\n",
       "      <td>Employed</td>\n",
       "      <td>Associate</td>\n",
       "      <td>17</td>\n",
       "      <td>9184</td>\n",
       "      <td>36</td>\n",
       "      <td>Married</td>\n",
       "      <td>...</td>\n",
       "      <td>8605.333333</td>\n",
       "      <td>0.941369</td>\n",
       "      <td>5</td>\n",
       "      <td>227019</td>\n",
       "      <td>0.197184</td>\n",
       "      <td>0.175990</td>\n",
       "      <td>330.179140</td>\n",
       "      <td>0.070210</td>\n",
       "      <td>1</td>\n",
       "      <td>NaN</td>\n",
       "    </tr>\n",
       "  </tbody>\n",
       "</table>\n",
       "<p>5 rows × 36 columns</p>\n",
       "</div>"
      ],
      "text/plain": [
       "  ApplicationDate   Age  AnnualIncome  CreditScore EmploymentStatus  \\\n",
       "0      2018-01-01  45.0         39948          617         Employed   \n",
       "1      2018-01-02  38.0         39709          628         Employed   \n",
       "2      2018-01-03  47.0         40724          570         Employed   \n",
       "3      2018-01-04  58.0         69084          545         Employed   \n",
       "4      2018-01-05  37.0        103264          594         Employed   \n",
       "\n",
       "  EducationLevel  Experience  LoanAmount  LoanDuration MaritalStatus  ...  \\\n",
       "0         Master          22       13152            48       Married  ...   \n",
       "1      Associate          15       26045            48        Single  ...   \n",
       "2       Bachelor          26       17627            36       Married  ...   \n",
       "3    High School          34       37898            96        Single  ...   \n",
       "4      Associate          17        9184            36       Married  ...   \n",
       "\n",
       "   MonthlyIncome UtilityBillsPaymentHistory  JobTenure  NetWorth  \\\n",
       "0    3329.000000                   0.724972         11    126928   \n",
       "1    3309.083333                   0.935132          3     43609   \n",
       "2    3393.666667                   0.872241          6      5205   \n",
       "3    5757.000000                   0.896155          5     99452   \n",
       "4    8605.333333                   0.941369          5    227019   \n",
       "\n",
       "   BaseInterestRate  InterestRate  MonthlyLoanPayment  TotalDebtToIncomeRatio  \\\n",
       "0          0.199652      0.227590          419.805992                0.181077   \n",
       "1          0.207045      0.201077          794.054238                0.389852   \n",
       "2          0.217627      0.212548          666.406688                0.462157   \n",
       "3          0.300398      0.300911         1047.506980                0.313098   \n",
       "4          0.197184      0.175990          330.179140                0.070210   \n",
       "\n",
       "  LoanApproved  RiskScore  \n",
       "0            0        NaN  \n",
       "1            0       52.0  \n",
       "2            0        NaN  \n",
       "3            0        NaN  \n",
       "4            1        NaN  \n",
       "\n",
       "[5 rows x 36 columns]"
      ]
     },
     "execution_count": 347,
     "metadata": {},
     "output_type": "execute_result"
    }
   ],
   "source": [
    "import pandas as pd\n",
    "import numpy as np\n",
    "import seaborn as sns\n",
    "import matplotlib.pyplot as plt\n",
    "%matplotlib inline\n",
    "from sklearn.model_selection import train_test_split, GridSearchCV\n",
    "from sklearn import linear_model\n",
    "from sklearn.metrics import r2_score\n",
    "from sklearn.linear_model import LogisticRegression\n",
    "from sklearn.metrics import confusion_matrix,accuracy_score, confusion_matrix, classification_report, f1_score\n",
    "from sklearn.feature_selection import RFE\n",
    "from sklearn.impute import SimpleImputer\n",
    "from sklearn.linear_model import LinearRegression\n",
    "from sklearn import datasets\n",
    "from sklearn.metrics import mean_squared_error\n",
    "from sklearn.preprocessing import StandardScaler\n",
    "from sklearn.neighbors import KNeighborsClassifier\n",
    "\n",
    "data = pd.read_csv('/Users/hatimhussaini/Downloads/Github Repository/portfolio-part-3-hatimhussaini/loan_approval.csv')\n",
    "data.head()"
   ]
  },
  {
   "cell_type": "code",
   "execution_count": 349,
   "metadata": {},
   "outputs": [
    {
     "name": "stdout",
     "output_type": "stream",
     "text": [
      "<class 'pandas.core.frame.DataFrame'>\n",
      "RangeIndex: 20000 entries, 0 to 19999\n",
      "Data columns (total 36 columns):\n",
      " #   Column                      Non-Null Count  Dtype  \n",
      "---  ------                      --------------  -----  \n",
      " 0   ApplicationDate             20000 non-null  object \n",
      " 1   Age                         19900 non-null  float64\n",
      " 2   AnnualIncome                20000 non-null  int64  \n",
      " 3   CreditScore                 20000 non-null  int64  \n",
      " 4   EmploymentStatus            20000 non-null  object \n",
      " 5   EducationLevel              20000 non-null  object \n",
      " 6   Experience                  20000 non-null  int64  \n",
      " 7   LoanAmount                  20000 non-null  int64  \n",
      " 8   LoanDuration                20000 non-null  int64  \n",
      " 9   MaritalStatus               19900 non-null  object \n",
      " 10  NumberOfDependents          20000 non-null  int64  \n",
      " 11  HomeOwnershipStatus         20000 non-null  object \n",
      " 12  MonthlyDebtPayments         20000 non-null  int64  \n",
      " 13  CreditCardUtilizationRate   20000 non-null  float64\n",
      " 14  NumberOfOpenCreditLines     20000 non-null  int64  \n",
      " 15  NumberOfCreditInquiries     20000 non-null  int64  \n",
      " 16  DebtToIncomeRatio           20000 non-null  float64\n",
      " 17  BankruptcyHistory           20000 non-null  int64  \n",
      " 18  LoanPurpose                 20000 non-null  object \n",
      " 19  PreviousLoanDefaults        20000 non-null  int64  \n",
      " 20  PaymentHistory              20000 non-null  int64  \n",
      " 21  LengthOfCreditHistory       20000 non-null  int64  \n",
      " 22  SavingsAccountBalance       20000 non-null  int64  \n",
      " 23  CheckingAccountBalance      20000 non-null  int64  \n",
      " 24  TotalAssets                 20000 non-null  int64  \n",
      " 25  TotalLiabilities            20000 non-null  int64  \n",
      " 26  MonthlyIncome               20000 non-null  float64\n",
      " 27  UtilityBillsPaymentHistory  20000 non-null  float64\n",
      " 28  JobTenure                   20000 non-null  int64  \n",
      " 29  NetWorth                    20000 non-null  int64  \n",
      " 30  BaseInterestRate            20000 non-null  float64\n",
      " 31  InterestRate                20000 non-null  float64\n",
      " 32  MonthlyLoanPayment          20000 non-null  float64\n",
      " 33  TotalDebtToIncomeRatio      20000 non-null  float64\n",
      " 34  LoanApproved                20000 non-null  int64  \n",
      " 35  RiskScore                   1000 non-null   float64\n",
      "dtypes: float64(10), int64(20), object(6)\n",
      "memory usage: 5.5+ MB\n"
     ]
    }
   ],
   "source": [
    "data.info()"
   ]
  },
  {
   "cell_type": "code",
   "execution_count": 351,
   "metadata": {},
   "outputs": [
    {
     "data": {
      "text/html": [
       "<div>\n",
       "<style scoped>\n",
       "    .dataframe tbody tr th:only-of-type {\n",
       "        vertical-align: middle;\n",
       "    }\n",
       "\n",
       "    .dataframe tbody tr th {\n",
       "        vertical-align: top;\n",
       "    }\n",
       "\n",
       "    .dataframe thead th {\n",
       "        text-align: right;\n",
       "    }\n",
       "</style>\n",
       "<table border=\"1\" class=\"dataframe\">\n",
       "  <thead>\n",
       "    <tr style=\"text-align: right;\">\n",
       "      <th></th>\n",
       "      <th>ApplicationDate</th>\n",
       "      <th>Age</th>\n",
       "      <th>AnnualIncome</th>\n",
       "      <th>CreditScore</th>\n",
       "      <th>EmploymentStatus</th>\n",
       "      <th>EducationLevel</th>\n",
       "      <th>Experience</th>\n",
       "      <th>LoanAmount</th>\n",
       "      <th>LoanDuration</th>\n",
       "      <th>MaritalStatus</th>\n",
       "      <th>...</th>\n",
       "      <th>MonthlyIncome</th>\n",
       "      <th>UtilityBillsPaymentHistory</th>\n",
       "      <th>JobTenure</th>\n",
       "      <th>NetWorth</th>\n",
       "      <th>BaseInterestRate</th>\n",
       "      <th>InterestRate</th>\n",
       "      <th>MonthlyLoanPayment</th>\n",
       "      <th>TotalDebtToIncomeRatio</th>\n",
       "      <th>LoanApproved</th>\n",
       "      <th>RiskScore</th>\n",
       "    </tr>\n",
       "  </thead>\n",
       "  <tbody>\n",
       "    <tr>\n",
       "      <th>count</th>\n",
       "      <td>20000</td>\n",
       "      <td>19900.000000</td>\n",
       "      <td>20000.000000</td>\n",
       "      <td>20000.000000</td>\n",
       "      <td>20000</td>\n",
       "      <td>20000</td>\n",
       "      <td>20000.000000</td>\n",
       "      <td>20000.000000</td>\n",
       "      <td>20000.000000</td>\n",
       "      <td>19900</td>\n",
       "      <td>...</td>\n",
       "      <td>20000.000000</td>\n",
       "      <td>20000.000000</td>\n",
       "      <td>20000.000000</td>\n",
       "      <td>2.000000e+04</td>\n",
       "      <td>20000.000000</td>\n",
       "      <td>20000.000000</td>\n",
       "      <td>20000.000000</td>\n",
       "      <td>20000.000000</td>\n",
       "      <td>20000.000000</td>\n",
       "      <td>1000.000000</td>\n",
       "    </tr>\n",
       "    <tr>\n",
       "      <th>unique</th>\n",
       "      <td>20000</td>\n",
       "      <td>NaN</td>\n",
       "      <td>NaN</td>\n",
       "      <td>NaN</td>\n",
       "      <td>3</td>\n",
       "      <td>5</td>\n",
       "      <td>NaN</td>\n",
       "      <td>NaN</td>\n",
       "      <td>NaN</td>\n",
       "      <td>4</td>\n",
       "      <td>...</td>\n",
       "      <td>NaN</td>\n",
       "      <td>NaN</td>\n",
       "      <td>NaN</td>\n",
       "      <td>NaN</td>\n",
       "      <td>NaN</td>\n",
       "      <td>NaN</td>\n",
       "      <td>NaN</td>\n",
       "      <td>NaN</td>\n",
       "      <td>NaN</td>\n",
       "      <td>NaN</td>\n",
       "    </tr>\n",
       "    <tr>\n",
       "      <th>top</th>\n",
       "      <td>2018-01-01</td>\n",
       "      <td>NaN</td>\n",
       "      <td>NaN</td>\n",
       "      <td>NaN</td>\n",
       "      <td>Employed</td>\n",
       "      <td>Bachelor</td>\n",
       "      <td>NaN</td>\n",
       "      <td>NaN</td>\n",
       "      <td>NaN</td>\n",
       "      <td>Married</td>\n",
       "      <td>...</td>\n",
       "      <td>NaN</td>\n",
       "      <td>NaN</td>\n",
       "      <td>NaN</td>\n",
       "      <td>NaN</td>\n",
       "      <td>NaN</td>\n",
       "      <td>NaN</td>\n",
       "      <td>NaN</td>\n",
       "      <td>NaN</td>\n",
       "      <td>NaN</td>\n",
       "      <td>NaN</td>\n",
       "    </tr>\n",
       "    <tr>\n",
       "      <th>freq</th>\n",
       "      <td>1</td>\n",
       "      <td>NaN</td>\n",
       "      <td>NaN</td>\n",
       "      <td>NaN</td>\n",
       "      <td>17036</td>\n",
       "      <td>6054</td>\n",
       "      <td>NaN</td>\n",
       "      <td>NaN</td>\n",
       "      <td>NaN</td>\n",
       "      <td>9999</td>\n",
       "      <td>...</td>\n",
       "      <td>NaN</td>\n",
       "      <td>NaN</td>\n",
       "      <td>NaN</td>\n",
       "      <td>NaN</td>\n",
       "      <td>NaN</td>\n",
       "      <td>NaN</td>\n",
       "      <td>NaN</td>\n",
       "      <td>NaN</td>\n",
       "      <td>NaN</td>\n",
       "      <td>NaN</td>\n",
       "    </tr>\n",
       "    <tr>\n",
       "      <th>mean</th>\n",
       "      <td>NaN</td>\n",
       "      <td>39.751759</td>\n",
       "      <td>59161.473550</td>\n",
       "      <td>571.612400</td>\n",
       "      <td>NaN</td>\n",
       "      <td>NaN</td>\n",
       "      <td>17.522750</td>\n",
       "      <td>24882.867800</td>\n",
       "      <td>54.057000</td>\n",
       "      <td>NaN</td>\n",
       "      <td>...</td>\n",
       "      <td>4891.715521</td>\n",
       "      <td>0.799918</td>\n",
       "      <td>5.002650</td>\n",
       "      <td>7.229432e+04</td>\n",
       "      <td>0.239124</td>\n",
       "      <td>0.239110</td>\n",
       "      <td>911.607052</td>\n",
       "      <td>0.402182</td>\n",
       "      <td>0.239000</td>\n",
       "      <td>50.687600</td>\n",
       "    </tr>\n",
       "    <tr>\n",
       "      <th>std</th>\n",
       "      <td>NaN</td>\n",
       "      <td>11.630809</td>\n",
       "      <td>40350.845168</td>\n",
       "      <td>50.997358</td>\n",
       "      <td>NaN</td>\n",
       "      <td>NaN</td>\n",
       "      <td>11.316836</td>\n",
       "      <td>13427.421217</td>\n",
       "      <td>24.664857</td>\n",
       "      <td>NaN</td>\n",
       "      <td>...</td>\n",
       "      <td>3296.771598</td>\n",
       "      <td>0.120665</td>\n",
       "      <td>2.236804</td>\n",
       "      <td>1.179200e+05</td>\n",
       "      <td>0.035509</td>\n",
       "      <td>0.042205</td>\n",
       "      <td>674.583473</td>\n",
       "      <td>0.338924</td>\n",
       "      <td>0.426483</td>\n",
       "      <td>7.881033</td>\n",
       "    </tr>\n",
       "    <tr>\n",
       "      <th>min</th>\n",
       "      <td>NaN</td>\n",
       "      <td>18.000000</td>\n",
       "      <td>15000.000000</td>\n",
       "      <td>343.000000</td>\n",
       "      <td>NaN</td>\n",
       "      <td>NaN</td>\n",
       "      <td>0.000000</td>\n",
       "      <td>3674.000000</td>\n",
       "      <td>12.000000</td>\n",
       "      <td>NaN</td>\n",
       "      <td>...</td>\n",
       "      <td>1250.000000</td>\n",
       "      <td>0.259203</td>\n",
       "      <td>0.000000</td>\n",
       "      <td>1.000000e+03</td>\n",
       "      <td>0.130101</td>\n",
       "      <td>0.113310</td>\n",
       "      <td>97.030193</td>\n",
       "      <td>0.016043</td>\n",
       "      <td>0.000000</td>\n",
       "      <td>30.400000</td>\n",
       "    </tr>\n",
       "    <tr>\n",
       "      <th>25%</th>\n",
       "      <td>NaN</td>\n",
       "      <td>31.750000</td>\n",
       "      <td>31679.000000</td>\n",
       "      <td>540.000000</td>\n",
       "      <td>NaN</td>\n",
       "      <td>NaN</td>\n",
       "      <td>9.000000</td>\n",
       "      <td>15575.000000</td>\n",
       "      <td>36.000000</td>\n",
       "      <td>NaN</td>\n",
       "      <td>...</td>\n",
       "      <td>2629.583333</td>\n",
       "      <td>0.727379</td>\n",
       "      <td>3.000000</td>\n",
       "      <td>8.734750e+03</td>\n",
       "      <td>0.213889</td>\n",
       "      <td>0.209142</td>\n",
       "      <td>493.763700</td>\n",
       "      <td>0.179693</td>\n",
       "      <td>0.000000</td>\n",
       "      <td>46.000000</td>\n",
       "    </tr>\n",
       "    <tr>\n",
       "      <th>50%</th>\n",
       "      <td>NaN</td>\n",
       "      <td>40.000000</td>\n",
       "      <td>48566.000000</td>\n",
       "      <td>578.000000</td>\n",
       "      <td>NaN</td>\n",
       "      <td>NaN</td>\n",
       "      <td>17.000000</td>\n",
       "      <td>21914.500000</td>\n",
       "      <td>48.000000</td>\n",
       "      <td>NaN</td>\n",
       "      <td>...</td>\n",
       "      <td>4034.750000</td>\n",
       "      <td>0.820962</td>\n",
       "      <td>5.000000</td>\n",
       "      <td>3.285550e+04</td>\n",
       "      <td>0.236157</td>\n",
       "      <td>0.235390</td>\n",
       "      <td>728.511452</td>\n",
       "      <td>0.302711</td>\n",
       "      <td>0.000000</td>\n",
       "      <td>52.000000</td>\n",
       "    </tr>\n",
       "    <tr>\n",
       "      <th>75%</th>\n",
       "      <td>NaN</td>\n",
       "      <td>48.000000</td>\n",
       "      <td>74391.000000</td>\n",
       "      <td>609.000000</td>\n",
       "      <td>NaN</td>\n",
       "      <td>NaN</td>\n",
       "      <td>25.000000</td>\n",
       "      <td>30835.000000</td>\n",
       "      <td>72.000000</td>\n",
       "      <td>NaN</td>\n",
       "      <td>...</td>\n",
       "      <td>6163.000000</td>\n",
       "      <td>0.892333</td>\n",
       "      <td>6.000000</td>\n",
       "      <td>8.882550e+04</td>\n",
       "      <td>0.261533</td>\n",
       "      <td>0.265532</td>\n",
       "      <td>1112.770759</td>\n",
       "      <td>0.509214</td>\n",
       "      <td>0.000000</td>\n",
       "      <td>56.000000</td>\n",
       "    </tr>\n",
       "    <tr>\n",
       "      <th>max</th>\n",
       "      <td>NaN</td>\n",
       "      <td>80.000000</td>\n",
       "      <td>485341.000000</td>\n",
       "      <td>712.000000</td>\n",
       "      <td>NaN</td>\n",
       "      <td>NaN</td>\n",
       "      <td>61.000000</td>\n",
       "      <td>184732.000000</td>\n",
       "      <td>120.000000</td>\n",
       "      <td>NaN</td>\n",
       "      <td>...</td>\n",
       "      <td>25000.000000</td>\n",
       "      <td>0.999433</td>\n",
       "      <td>16.000000</td>\n",
       "      <td>2.603208e+06</td>\n",
       "      <td>0.405029</td>\n",
       "      <td>0.446787</td>\n",
       "      <td>10892.629520</td>\n",
       "      <td>4.647657</td>\n",
       "      <td>1.000000</td>\n",
       "      <td>77.000000</td>\n",
       "    </tr>\n",
       "  </tbody>\n",
       "</table>\n",
       "<p>11 rows × 36 columns</p>\n",
       "</div>"
      ],
      "text/plain": [
       "       ApplicationDate           Age   AnnualIncome   CreditScore  \\\n",
       "count            20000  19900.000000   20000.000000  20000.000000   \n",
       "unique           20000           NaN            NaN           NaN   \n",
       "top         2018-01-01           NaN            NaN           NaN   \n",
       "freq                 1           NaN            NaN           NaN   \n",
       "mean               NaN     39.751759   59161.473550    571.612400   \n",
       "std                NaN     11.630809   40350.845168     50.997358   \n",
       "min                NaN     18.000000   15000.000000    343.000000   \n",
       "25%                NaN     31.750000   31679.000000    540.000000   \n",
       "50%                NaN     40.000000   48566.000000    578.000000   \n",
       "75%                NaN     48.000000   74391.000000    609.000000   \n",
       "max                NaN     80.000000  485341.000000    712.000000   \n",
       "\n",
       "       EmploymentStatus EducationLevel    Experience     LoanAmount  \\\n",
       "count             20000          20000  20000.000000   20000.000000   \n",
       "unique                3              5           NaN            NaN   \n",
       "top            Employed       Bachelor           NaN            NaN   \n",
       "freq              17036           6054           NaN            NaN   \n",
       "mean                NaN            NaN     17.522750   24882.867800   \n",
       "std                 NaN            NaN     11.316836   13427.421217   \n",
       "min                 NaN            NaN      0.000000    3674.000000   \n",
       "25%                 NaN            NaN      9.000000   15575.000000   \n",
       "50%                 NaN            NaN     17.000000   21914.500000   \n",
       "75%                 NaN            NaN     25.000000   30835.000000   \n",
       "max                 NaN            NaN     61.000000  184732.000000   \n",
       "\n",
       "        LoanDuration MaritalStatus  ...  MonthlyIncome  \\\n",
       "count   20000.000000         19900  ...   20000.000000   \n",
       "unique           NaN             4  ...            NaN   \n",
       "top              NaN       Married  ...            NaN   \n",
       "freq             NaN          9999  ...            NaN   \n",
       "mean       54.057000           NaN  ...    4891.715521   \n",
       "std        24.664857           NaN  ...    3296.771598   \n",
       "min        12.000000           NaN  ...    1250.000000   \n",
       "25%        36.000000           NaN  ...    2629.583333   \n",
       "50%        48.000000           NaN  ...    4034.750000   \n",
       "75%        72.000000           NaN  ...    6163.000000   \n",
       "max       120.000000           NaN  ...   25000.000000   \n",
       "\n",
       "       UtilityBillsPaymentHistory     JobTenure      NetWorth  \\\n",
       "count                20000.000000  20000.000000  2.000000e+04   \n",
       "unique                        NaN           NaN           NaN   \n",
       "top                           NaN           NaN           NaN   \n",
       "freq                          NaN           NaN           NaN   \n",
       "mean                     0.799918      5.002650  7.229432e+04   \n",
       "std                      0.120665      2.236804  1.179200e+05   \n",
       "min                      0.259203      0.000000  1.000000e+03   \n",
       "25%                      0.727379      3.000000  8.734750e+03   \n",
       "50%                      0.820962      5.000000  3.285550e+04   \n",
       "75%                      0.892333      6.000000  8.882550e+04   \n",
       "max                      0.999433     16.000000  2.603208e+06   \n",
       "\n",
       "        BaseInterestRate  InterestRate  MonthlyLoanPayment  \\\n",
       "count       20000.000000  20000.000000        20000.000000   \n",
       "unique               NaN           NaN                 NaN   \n",
       "top                  NaN           NaN                 NaN   \n",
       "freq                 NaN           NaN                 NaN   \n",
       "mean            0.239124      0.239110          911.607052   \n",
       "std             0.035509      0.042205          674.583473   \n",
       "min             0.130101      0.113310           97.030193   \n",
       "25%             0.213889      0.209142          493.763700   \n",
       "50%             0.236157      0.235390          728.511452   \n",
       "75%             0.261533      0.265532         1112.770759   \n",
       "max             0.405029      0.446787        10892.629520   \n",
       "\n",
       "        TotalDebtToIncomeRatio  LoanApproved    RiskScore  \n",
       "count             20000.000000  20000.000000  1000.000000  \n",
       "unique                     NaN           NaN          NaN  \n",
       "top                        NaN           NaN          NaN  \n",
       "freq                       NaN           NaN          NaN  \n",
       "mean                  0.402182      0.239000    50.687600  \n",
       "std                   0.338924      0.426483     7.881033  \n",
       "min                   0.016043      0.000000    30.400000  \n",
       "25%                   0.179693      0.000000    46.000000  \n",
       "50%                   0.302711      0.000000    52.000000  \n",
       "75%                   0.509214      0.000000    56.000000  \n",
       "max                   4.647657      1.000000    77.000000  \n",
       "\n",
       "[11 rows x 36 columns]"
      ]
     },
     "execution_count": 351,
     "metadata": {},
     "output_type": "execute_result"
    }
   ],
   "source": [
    "data.describe(include=\"all\")"
   ]
  },
  {
   "cell_type": "markdown",
   "metadata": {},
   "source": [
    "## Task 1: Clean the datasets (10 marks)"
   ]
  },
  {
   "cell_type": "markdown",
   "metadata": {},
   "source": [
    "### Step 1.1 Handle the missing values with follwoing rules (5 marks)\n",
    "1. If over 50% of the values of a column, the column should be removed from the data frame; \n",
    "2. For a categorical column, if a row contains a missing value, you need to delete the whole row; \n",
    "3. For a numerical column, if a row contains a missing value, you need to perform a missing value imputation with the average value of the column."
   ]
  },
  {
   "cell_type": "code",
   "execution_count": 355,
   "metadata": {},
   "outputs": [
    {
     "name": "stdout",
     "output_type": "stream",
     "text": [
      "RiskScore    95.0\n",
      "dtype: float64\n",
      "(20000, 35)\n"
     ]
    }
   ],
   "source": [
    "# step 1.1.1: dropping columns with more than 50% null values.\n",
    "missing_percentage = data.isnull().mean() * 100\n",
    "print(missing_percentage[missing_percentage>50])# check which columns have a more than 50% null value ratio\n",
    "data1 = data.drop(missing_percentage[missing_percentage>50].index, axis = 1)# drop those column/s (RiskScore in this case)\n",
    "print(data1.shape)# double check the dataframe. "
   ]
  },
  {
   "cell_type": "code",
   "execution_count": 357,
   "metadata": {},
   "outputs": [
    {
     "name": "stdout",
     "output_type": "stream",
     "text": [
      "(19900, 35)\n"
     ]
    }
   ],
   "source": [
    "# Step 1.1.2: dropping null catagorical variables\n",
    "object_columns = data1.select_dtypes(include = 'object') # finding out the categorical columns\n",
    "object_columns.columns\n",
    "clean_data = data1.dropna(subset = object_columns.columns) # drop whole row if null value in these columns\n",
    "print(clean_data.shape) # double check data (100 rows dropped)"
   ]
  },
  {
   "cell_type": "code",
   "execution_count": 359,
   "metadata": {},
   "outputs": [
    {
     "name": "stdout",
     "output_type": "stream",
     "text": [
      "ApplicationDate               0\n",
      "Age                           0\n",
      "AnnualIncome                  0\n",
      "CreditScore                   0\n",
      "EmploymentStatus              0\n",
      "EducationLevel                0\n",
      "Experience                    0\n",
      "LoanAmount                    0\n",
      "LoanDuration                  0\n",
      "MaritalStatus                 0\n",
      "NumberOfDependents            0\n",
      "HomeOwnershipStatus           0\n",
      "MonthlyDebtPayments           0\n",
      "CreditCardUtilizationRate     0\n",
      "NumberOfOpenCreditLines       0\n",
      "NumberOfCreditInquiries       0\n",
      "DebtToIncomeRatio             0\n",
      "BankruptcyHistory             0\n",
      "LoanPurpose                   0\n",
      "PreviousLoanDefaults          0\n",
      "PaymentHistory                0\n",
      "LengthOfCreditHistory         0\n",
      "SavingsAccountBalance         0\n",
      "CheckingAccountBalance        0\n",
      "TotalAssets                   0\n",
      "TotalLiabilities              0\n",
      "MonthlyIncome                 0\n",
      "UtilityBillsPaymentHistory    0\n",
      "JobTenure                     0\n",
      "NetWorth                      0\n",
      "BaseInterestRate              0\n",
      "InterestRate                  0\n",
      "MonthlyLoanPayment            0\n",
      "TotalDebtToIncomeRatio        0\n",
      "LoanApproved                  0\n",
      "dtype: int64\n"
     ]
    },
    {
     "name": "stderr",
     "output_type": "stream",
     "text": [
      "/var/folders/lw/zb_b4kcs54lcy4zn4llwx5m40000gn/T/ipykernel_3538/2778421290.py:6: SettingWithCopyWarning: \n",
      "A value is trying to be set on a copy of a slice from a DataFrame.\n",
      "Try using .loc[row_indexer,col_indexer] = value instead\n",
      "\n",
      "See the caveats in the documentation: https://pandas.pydata.org/pandas-docs/stable/user_guide/indexing.html#returning-a-view-versus-a-copy\n",
      "  clean_data[numerical_columns.columns] = numerical_columns.fillna(numerical_columns.mean())\n"
     ]
    }
   ],
   "source": [
    "# Step 1.1.3: missing value imputation for null numerical columns\n",
    " # select all numerical columns:\n",
    "numerical_columns = clean_data.select_dtypes(include = 'number')\n",
    "\n",
    " #fill all null cells with the mean of the respective column:\n",
    "clean_data[numerical_columns.columns] = numerical_columns.fillna(numerical_columns.mean()) \n",
    "\n",
    " #Double check if there are any null values in the dataframe:\n",
    "print(clean_data.isnull().sum())"
   ]
  },
  {
   "cell_type": "markdown",
   "metadata": {},
   "source": [
    "### Step 1.2 Handle categorical attributes (5 marks)\n",
    "1. If all the categorical values of a column are unique, this column does not provide any statistical informaiton and should be deleted.\n",
    "2. Use one hot encoding to convert the categorical values into numerical ones."
   ]
  },
  {
   "cell_type": "code",
   "execution_count": 362,
   "metadata": {},
   "outputs": [
    {
     "name": "stdout",
     "output_type": "stream",
     "text": [
      "(19900, 34)\n"
     ]
    }
   ],
   "source": [
    "# Step 1.2.1: dropping categorical columns with unique values:\n",
    "clean_object_columns = clean_data.select_dtypes(include=['object'])\n",
    "\n",
    "#drop columns where all values are unique\n",
    "unique_values = clean_object_columns.columns[clean_object_columns.nunique() == len(clean_data)]\n",
    "cleaner_data = clean_data.drop(unique_values, axis=1)\n",
    "\n",
    "#display the updated dataset (ApplicationDate dropped)\n",
    "print(cleaner_data.shape)"
   ]
  },
  {
   "cell_type": "code",
   "execution_count": 364,
   "metadata": {},
   "outputs": [
    {
     "name": "stdout",
     "output_type": "stream",
     "text": [
      "(19900, 50)\n"
     ]
    }
   ],
   "source": [
    "# Step 1.2.2: One Hot Encoding\n",
    " #use the latest categorical columns from cleaned data:\n",
    "cleanest_object_columns = cleaner_data.select_dtypes(include=['object'])\n",
    " # encode using pd.get_dummies()\n",
    "encoded_data = pd.get_dummies(cleaner_data, columns = cleanest_object_columns.columns)\n",
    " # double check the columns (there are now columns for each type of ubnique values in categorical columns)\n",
    "print(encoded_data.shape)"
   ]
  },
  {
   "cell_type": "markdown",
   "metadata": {},
   "source": [
    "## Task 2: Build a logistic regression classification model (25 marks)"
   ]
  },
  {
   "cell_type": "markdown",
   "metadata": {},
   "source": [
    "### Step 2.1 Specify the features and the label, and split the dataset into training data and testing data (5 marks)\n",
    "1. The attirbute \"LoanApproved\" is the label, which is the prediction target. The remaining attributes are the features.\n",
    "2. The ratio for splitting the dataset is 80% for training and 20% for testing. Note that you need to set the \"random_state\" parameter as your student ID to produce your personlised splitting. Failing to do so will lose marks."
   ]
  },
  {
   "cell_type": "code",
   "execution_count": 368,
   "metadata": {},
   "outputs": [
    {
     "name": "stdout",
     "output_type": "stream",
     "text": [
      "(15920, 50)\n",
      "(3980, 50)\n"
     ]
    }
   ],
   "source": [
    "# Step 2.1: buliding a logistic regrssion model:\n",
    "\n",
    "# Splitting the data into training(80%) and testing data (20%) with random_state=47807040\n",
    "train, test = train_test_split(encoded_data, test_size=0.2, random_state=47807040)\n",
    "print(train.shape)\n",
    "print(test.shape)"
   ]
  },
  {
   "cell_type": "markdown",
   "metadata": {},
   "source": [
    "### Step 2.2 Build a logistic regression model (10 marks)\n",
    "1. Train a logistic regression model\n",
    "2. Report two classification performance metrics (accuracy and f1-score) on the testing data\n",
    "3. Also report the two metrics on the training data, and compare the results with that of the testing data. Make a justification on whether the model is overfitting based on the comparison."
   ]
  },
  {
   "cell_type": "code",
   "execution_count": 371,
   "metadata": {},
   "outputs": [
    {
     "name": "stdout",
     "output_type": "stream",
     "text": [
      "y = x * [[-1.24376468e-04 -3.00695086e-05 -2.20381828e-03 -2.72674523e-05\n",
      "  -1.81597954e-04 -4.18799735e-04 -6.75540102e-06 -2.92310478e-03\n",
      "  -1.28927419e-06 -1.33334301e-05 -4.85664176e-06 -1.29752758e-06\n",
      "  -1.47716044e-06 -1.96177097e-06 -9.63739785e-05  2.60765428e-07\n",
      "  -1.92794206e-05 -7.85326308e-05  1.96358160e-06 -3.81036545e-06\n",
      "   1.24384944e-03 -3.54723282e-06 -2.24081284e-05  5.31064401e-06\n",
      "  -1.25426182e-06 -1.54758132e-06  2.18394033e-04 -2.11638814e-06\n",
      "  -3.38250551e-06 -8.36088903e-08 -9.44851712e-07 -1.88758259e-06\n",
      "  -4.44678596e-07  9.54226044e-07 -4.20916916e-06  1.17623818e-06\n",
      "  -3.92881407e-07 -2.42314355e-06 -1.15091263e-06 -4.44028534e-07\n",
      "  -7.82301901e-07 -9.70697372e-07 -5.11225074e-07 -2.14674177e-06\n",
      "  -8.50812845e-07 -1.34723759e-06 -2.88884531e-07 -1.29964857e-06\n",
      "  -6.24382582e-07]] + [-4.41096612e-06]\n"
     ]
    },
    {
     "name": "stderr",
     "output_type": "stream",
     "text": [
      "/Applications/anaconda3/lib/python3.12/site-packages/sklearn/linear_model/_logistic.py:469: ConvergenceWarning: lbfgs failed to converge (status=1):\n",
      "STOP: TOTAL NO. of ITERATIONS REACHED LIMIT.\n",
      "\n",
      "Increase the number of iterations (max_iter) or scale the data as shown in:\n",
      "    https://scikit-learn.org/stable/modules/preprocessing.html\n",
      "Please also refer to the documentation for alternative solver options:\n",
      "    https://scikit-learn.org/stable/modules/linear_model.html#logistic-regression\n",
      "  n_iter_i = _check_optimize_result(\n"
     ]
    }
   ],
   "source": [
    "# Building the Logistic Regression model\n",
    "reg = LogisticRegression()\n",
    "\n",
    "x_train = train.drop('LoanApproved', axis=1) \n",
    "x_test = test.drop('LoanApproved', axis=1)   \n",
    "\n",
    "y_train = train['LoanApproved'] \n",
    "y_test = test['LoanApproved']    \n",
    "\n",
    "reg.fit(x_train, y_train)\n",
    "print(\"y = x *\", reg.coef_, \"+\", reg.intercept_) \n",
    "\n",
    "# predict the train & test set\n",
    "y_test_pred = reg.predict(x_test)\n",
    "y_train_pred = reg.predict(x_train)"
   ]
  },
  {
   "cell_type": "code",
   "execution_count": 373,
   "metadata": {},
   "outputs": [
    {
     "name": "stdout",
     "output_type": "stream",
     "text": [
      "Training Data Accuracy: 0.8896984924623116\n",
      "Training Data F1 Score: 0.7573915446255872\n",
      "Testing Data Accuracy: 0.8909547738693467\n",
      "Testing Data F1 Score: 0.7494226327944573\n"
     ]
    }
   ],
   "source": [
    "# Print the accuracy and F1-score for both training and testing data\n",
    "print(f\"Training Data Accuracy: {accuracy_score(y_train, y_train_pred)}\")\n",
    "print(f\"Training Data F1 Score: {f1_score(y_train, y_train_pred)}\")\n",
    "\n",
    "print(f\"Testing Data Accuracy: {accuracy_score(y_test, y_test_pred)}\")\n",
    "print(f\"Testing Data F1 Score: {f1_score(y_test, y_test_pred)}\")"
   ]
  },
  {
   "cell_type": "markdown",
   "metadata": {},
   "source": [
    "#### Is the Logistic Regression Model overfitting? A justification:  \n",
    "Overfitting occurs when they testing data performs much worse than the training data which may suggest that the model does not generalise well.  \n",
    "\n",
    " When comparing the Accuracy variable of training data (0.892) and testing data (0.883), we see that the accuracy for training data is higher than that of testing data but the differences minimal. This suggests that the model is not significantly overfitting and performs well on unseen data.  \n",
    "\n",
    " The F1 score of the training data (0.758) and the testing data (0.742) also show minimal differences between the two set of variables and test again suggest that the model is not overfitting.  \n",
    "\n",
    " In this loan approval dataframe, they model is not overfitting much."
   ]
  },
  {
   "cell_type": "markdown",
   "metadata": {},
   "source": [
    "### Step 2.3 Perform the recursive feature elimination (RFE) technique to identify the effective features for building the model (10 marks)\n",
    "1. Visulise the change of the two performance metrics with respect to the number of eliminated features using a line chart.\n",
    "2. In terms of the visualisation result, select a good value for the number of eliminated features with considering both performance maximisation and feature minimisation (two competing goals). Run the RFE again with the chosen number of eliminated features to obtain the corresponding set of retained features."
   ]
  },
  {
   "cell_type": "code",
   "execution_count": 377,
   "metadata": {},
   "outputs": [],
   "source": [
    "#the model has difficulty trying to predict the loanApproved column with different types of variables,\n",
    "#all with different ranges and meaning for example where 1 (e.g number of dependants) would be a good score for omne type of column,\n",
    "#it would be really bad in another type of column (e.g income)\n",
    "# we scale it to make all values comparable and predictable.\n",
    "\n",
    "# Scale the data with a mean of 0 and a stdev of 1\n",
    "scaler = StandardScaler()\n",
    "x_train_scalar = scaler.fit_transform(x_train)\n",
    "x_test_scalar = scaler.transform(x_test)\n",
    "\n",
    "# Make arrays to track feature count, accuracy, and f1 score\n",
    "feature_tracker = []\n",
    "accuracy_tracker = []\n",
    "f1_score_tracker = []\n",
    "\n",
    "# perform RFE with varying numbers of features\n",
    "for selected_feature in range(1, len(encoded_data.columns) + 1): #start from the 1st column and go uptil the \n",
    "    #50th one (the last number is exclusive of the range above)\n",
    "    rfe = RFE(estimator=reg, n_features_to_select=selected_feature)\n",
    "    rfe.fit(x_train_scalar, y_train)\n",
    "    \n",
    "    # predict on the test set\n",
    "    y_test_pred_scalar = rfe.predict(x_test_scalar)\n",
    "    \n",
    "    # store the number of features and performance metrics\n",
    "    feature_tracker.append(selected_feature)\n",
    "    accuracy_tracker.append(accuracy_score(y_test, y_test_pred_scalar))\n",
    "    f1_score_tracker.append(f1_score(y_test, y_test_pred_scalar))\n"
   ]
  },
  {
   "cell_type": "code",
   "execution_count": 379,
   "metadata": {},
   "outputs": [
    {
     "data": {
      "text/plain": [
       "<matplotlib.legend.Legend at 0x17b429f10>"
      ]
     },
     "execution_count": 379,
     "metadata": {},
     "output_type": "execute_result"
    },
    {
     "data": {
      "image/png": "[encoded data removed]",
      "text/plain": [
       "<Figure size 640x480 with 1 Axes>"
      ]
     },
     "metadata": {},
     "output_type": "display_data"
    }
   ],
   "source": [
    "# Plot the lineplot for arrays of accuracy and F1 score\n",
    "plt.plot(feature_tracker, accuracy_tracker, label='Accuracy', marker='o')\n",
    "plt.plot(feature_tracker, f1_score_tracker, label='F1 Score', marker='o')\n",
    "plt.title('Accuracy and F1 score depending on the number of features')\n",
    "plt.xlabel('Number of features')\n",
    "plt.ylabel('Accuracy and F1 score')\n",
    "plt.legend()"
   ]
  },
  {
   "cell_type": "code",
   "execution_count": 381,
   "metadata": {},
   "outputs": [
    {
     "name": "stdout",
     "output_type": "stream",
     "text": [
      " Max accuracy feature index: 17\n",
      " optimal number of features: 9\n"
     ]
    }
   ],
   "source": [
    "# Step 2.3.2: Performance maximaisation and Feature minimaisation\n",
    "# find out maximum accuracy\n",
    "max_accuracy = max(accuracy_tracker)\n",
    "print(f\" Max accuracy feature index: {accuracy_tracker.index(max_accuracy)}\") \n",
    "\n",
    "# if we find an accuracy value even 98% of the max value occuring in lesser features eliminated, \n",
    "#we can use it for feature minimisation\n",
    "accuracy_threshold = 0.98 * max_accuracy\n",
    "\n",
    "#looping through the index to find a value near max in the least amount of features. if there is none \n",
    "#before, the max feature will be selected.\n",
    "for i, accuracy in enumerate(accuracy_tracker):\n",
    "    if accuracy >= accuracy_threshold:\n",
    "        feature_index = feature_tracker[i] # the first value which is 98% or above of the max is chosen for \n",
    "        #feature minimisation purposes\n",
    "        break\n",
    "        \n",
    "print(f\" optimal number of features: {feature_index}\")\n"
   ]
  },
  {
   "cell_type": "code",
   "execution_count": 383,
   "metadata": {},
   "outputs": [
    {
     "name": "stdout",
     "output_type": "stream",
     "text": [
      "Index(['CreditScore', 'LoanAmount', 'BankruptcyHistory',\n",
      "       'PreviousLoanDefaults', 'LengthOfCreditHistory', 'MonthlyIncome',\n",
      "       'NetWorth', 'InterestRate', 'TotalDebtToIncomeRatio'],\n",
      "      dtype='object')\n"
     ]
    }
   ],
   "source": [
    "# redo the RFE with optimal number of features\n",
    "\n",
    "rfe_optimal = RFE(estimator=reg, n_features_to_select=feature_index)\n",
    "rfe_optimal.fit(x_train_scalar, y_train)\n",
    "\n",
    "retained_features = x_train.columns[rfe_optimal.support_]\n",
    "print(retained_features)"
   ]
  },
  {
   "cell_type": "markdown",
   "metadata": {},
   "source": [
    "## Task 3: Build a KNN classification model (25 marks)"
   ]
  },
  {
   "cell_type": "markdown",
   "metadata": {},
   "source": [
    "### Step 3.1 Build 1-NN classifier (5 marks)\n",
    "1. Select the features identifed in Step 2.3 for this task\n",
    "2. Buid 1-NN classifier and report two classification performance metrics (accuracy and f1-score) on the testing data\n",
    "3. Also report the two metrics on the training data, and compare the results with that of the testing data. Make a justification on whether the model is overfitting based on the comparison."
   ]
  },
  {
   "cell_type": "code",
   "execution_count": 386,
   "metadata": {},
   "outputs": [
    {
     "name": "stdout",
     "output_type": "stream",
     "text": [
      "Testing Accuracy: 0.9072864321608041\n",
      "Testing F1 Score: 0.7989100817438692\n"
     ]
    }
   ],
   "source": [
    "# Step 3.1.2\n",
    "#make 2 new dataframes for the scalar train and test data with their proper column names.\n",
    "scaled_train_data = pd.DataFrame(x_train_scalar, columns=x_train.columns)\n",
    "scaled_test_data = pd.DataFrame(x_test_scalar, columns = x_test.columns)\n",
    "\n",
    "# filter out the columns we need from dataframe made above\n",
    "x_train_retained = scaled_train_data[retained_features]\n",
    "x_test_retained = scaled_test_data[retained_features]\n",
    "\n",
    "# apply the knn classifier\n",
    "knn = KNeighborsClassifier(n_neighbors=1)\n",
    "\n",
    "knn.fit(x_train_retained, y_train)\n",
    "\n",
    "y_test_pred_retained = knn.predict(x_test_retained)\n",
    "\n",
    "# print accuracy and f1 for testing data.\n",
    "test_accuracy = accuracy_score(y_test, y_test_pred_retained)\n",
    "test_f1 = f1_score(y_test, y_test_pred_retained)\n",
    "\n",
    "print(f\"Testing Accuracy: {test_accuracy}\")\n",
    "print(f\"Testing F1 Score: {test_f1}\")"
   ]
  },
  {
   "cell_type": "code",
   "execution_count": 387,
   "metadata": {},
   "outputs": [
    {
     "name": "stdout",
     "output_type": "stream",
     "text": [
      "Training Accuracy: 1.0\n",
      "Training F1 Score: 1.0\n"
     ]
    }
   ],
   "source": [
    "#step 3.1.3:\n",
    "y_train_pred_retained = knn.predict(x_train_retained)\n",
    "\n",
    "train_accuracy = accuracy_score(y_train, y_train_pred_retained)\n",
    "train_f1 = f1_score(y_train, y_train_pred_retained)\n",
    "\n",
    "print(f\"Training Accuracy: {train_accuracy}\")\n",
    "print(f\"Training F1 Score: {train_f1}\")"
   ]
  },
  {
   "cell_type": "markdown",
   "metadata": {},
   "source": [
    "#### Analysis on the results of Knn Classifier Model  \n",
    "The model shows perfect training accuracy and F1 score of 1.0, indicating that it has likely memorized the training data. Despite this, the test performance remains strong with accuracy of 0.90 and F1 score of 0.80, showing that the model still generalizes somewhat well to unseen data."
   ]
  },
  {
   "cell_type": "markdown",
   "metadata": {},
   "source": [
    "### Step 3.2 Use the grid search and cross validation techniques to study the performance change with respect to the hyperparameter K (10 marks)\n",
    "1. User grid search to search K in the range (1, 30) both inclusive with 5-fold cross validation. The performance metric used for search is accuracy.\n",
    "2. Visualise the performance change with respect to K using a line chart. Report the two performance metrics for the best case."
   ]
  },
  {
   "cell_type": "code",
   "execution_count": 393,
   "metadata": {},
   "outputs": [
    {
     "name": "stdout",
     "output_type": "stream",
     "text": [
      "Best K: {'n_neighbors': 15}\n",
      "Test Accuracy with Best K: 0.935427135678392\n"
     ]
    }
   ],
   "source": [
    "#Step 3.2.1\n",
    "parameter = {'n_neighbors': range(1, 31)}\n",
    "grid_search = GridSearchCV(estimator=knn, param_grid= parameter, cv=5, scoring='accuracy')\n",
    "\n",
    "# Fit the model to the training data\n",
    "grid_search.fit(x_train_retained, y_train)\n",
    "\n",
    "#Get the best k valeu\n",
    "best_k = grid_search.best_params_\n",
    "print(f\"Best K: {best_k}\")\n",
    "\n",
    "#Train the knn classifier with the 15\n",
    "best_knn = KNeighborsClassifier(n_neighbors=15)\n",
    "best_knn.fit(x_train_retained, y_train)\n",
    "\n",
    "# Predict test data using the best Knn \n",
    "best_y_test_pred = best_knn.predict(x_test_retained)\n",
    "best_test_accuracy = accuracy_score(y_test, best_y_test_pred)\n",
    "\n",
    "print(f\"Test Accuracy with Best K: {best_test_accuracy}\" )"
   ]
  },
  {
   "cell_type": "code",
   "execution_count": 394,
   "metadata": {},
   "outputs": [
    {
     "name": "stdout",
     "output_type": "stream",
     "text": [
      "(30, 14)\n",
      "   mean_fit_time  std_fit_time  mean_score_time  std_score_time  \\\n",
      "0       0.007805      0.002193         0.137978        0.012485   \n",
      "1       0.005819      0.000269         0.145851        0.006265   \n",
      "2       0.005672      0.000077         0.152189        0.002357   \n",
      "3       0.005616      0.000063         0.163326        0.005075   \n",
      "4       0.005550      0.000050         0.168956        0.005908   \n",
      "\n",
      "  param_n_neighbors              params  split0_test_score  split1_test_score  \\\n",
      "0                 1  {'n_neighbors': 1}           0.909234           0.911118   \n",
      "1                 2  {'n_neighbors': 2}           0.902638           0.912688   \n",
      "2                 3  {'n_neighbors': 3}           0.918970           0.926193   \n",
      "3                 4  {'n_neighbors': 4}           0.915515           0.923681   \n",
      "4                 5  {'n_neighbors': 5}           0.925565           0.929334   \n",
      "\n",
      "   split2_test_score  split3_test_score  split4_test_score  mean_test_score  \\\n",
      "0           0.905779           0.908606           0.900754         0.907098   \n",
      "1           0.905779           0.911118           0.903894         0.907224   \n",
      "2           0.920854           0.923681           0.919598         0.921859   \n",
      "3           0.914259           0.918970           0.916143         0.917714   \n",
      "4           0.919284           0.923053           0.925565         0.924560   \n",
      "\n",
      "   std_test_score  rank_test_score  \n",
      "0        0.003605               30  \n",
      "1        0.003981               29  \n",
      "2        0.002705               27  \n",
      "3        0.003359               28  \n",
      "4        0.003314               25  \n"
     ]
    }
   ],
   "source": [
    "#make a new dataframe from the results of the grid search to see all the different scores for all 30 'k' values\n",
    "grid = pd.DataFrame(grid_search.cv_results_)\n",
    "print(grid.shape)\n",
    "print(grid.head())"
   ]
  },
  {
   "cell_type": "code",
   "execution_count": 395,
   "metadata": {},
   "outputs": [
    {
     "data": {
      "image/png": "[encoded data removed]",
      "text/plain": [
       "<Figure size 640x480 with 1 Axes>"
      ]
     },
     "metadata": {},
     "output_type": "display_data"
    }
   ],
   "source": [
    "# Step 3.2.2:\n",
    "# Get the mean test accuracy for each K\n",
    "mean_test_accuracy = grid['mean_test_score']\n",
    "\n",
    "# Plot the accuracy vs. K\n",
    "plt.plot(range(1, 31), mean_test_accuracy, marker='o')\n",
    "plt.title('Accuracy vs K')\n",
    "plt.xlabel('K')\n",
    "plt.ylabel('Mean Test Accuracy')\n",
    "plt.grid(True)"
   ]
  },
  {
   "cell_type": "code",
   "execution_count": 399,
   "metadata": {},
   "outputs": [
    {
     "name": "stdout",
     "output_type": "stream",
     "text": [
      "Test Accuracy with Best K: 0.935427135678392\n",
      "Test F1 Score with Best K: 0.8523836875358989\n"
     ]
    }
   ],
   "source": [
    "best_f1_score = f1_score(y_test, best_y_test_pred)\n",
    "\n",
    "print(f\"Test Accuracy with Best K: {best_test_accuracy}\" )\n",
    "print(f\"Test F1 Score with Best K: {best_f1_score}\")"
   ]
  },
  {
   "cell_type": "markdown",
   "metadata": {},
   "source": [
    "### Step 3.3 Study how the distance metrics affect the model performance (10 marks)\n",
    "1. Change the distance metric parameter to 3 distance types: 'euclidean'(also l2), 'l1', and 'cosine', respectively, and visualise the model performance with these 3 distances, using a bar chart for both accuracy and f1 scores.\n",
    "2. Compare the performance metrics, which is the best? Which is the worest?"
   ]
  },
  {
   "cell_type": "code",
   "execution_count": 402,
   "metadata": {},
   "outputs": [
    {
     "name": "stdout",
     "output_type": "stream",
     "text": [
      " Euclidian Accuracy: 0.935427135678392\n",
      " L1 Accuracy: 0.9384422110552764\n",
      " cosine Accuracy: 0.9316582914572864\n",
      " Euclidian F1 score: 0.8523836875358989\n",
      " L1 F1 score: 0.8595988538681948\n",
      " cosine F1 score: 0.851528384279476\n"
     ]
    },
    {
     "data": {
      "image/png": "[encoded data removed]",
      "text/plain": [
       "<Figure size 640x480 with 2 Axes>"
      ]
     },
     "metadata": {},
     "output_type": "display_data"
    }
   ],
   "source": [
    "# Step 3.3.1:\n",
    "#arrays to store the results for accuracy and F1 scores\n",
    "distance_metrics = ['euclidean', 'l1', 'cosine']\n",
    "accuracy_results = []\n",
    "f1_results = []\n",
    "\n",
    "#for Loop over each metric and fo the whole Knn classifier model for each metric\n",
    "for metric in distance_metrics:\n",
    "    knn = KNeighborsClassifier(n_neighbors=15, metric=metric)\n",
    "    knn.fit(x_train_retained, y_train)\n",
    "    y_test_pred = knn.predict(x_test_retained)\n",
    "    \n",
    "    accuracy = accuracy_score(y_test, y_test_pred)\n",
    "    f1 = f1_score(y_test, y_test_pred)\n",
    "    accuracy_results.append(accuracy)\n",
    "    f1_results.append(f1)\n",
    "\n",
    "#bar charts\n",
    "# Accuracy\n",
    "plt.subplot(1, 2, 1) \n",
    "plt.bar(distance_metrics, accuracy_results,color=['blue', 'green', 'red'])\n",
    "plt.title('Accuracy vs Distance Metrics')\n",
    "plt.xlabel('Distance Metric')\n",
    "plt.ylabel('Accuracy')\n",
    "plt.grid(True)\n",
    "# F1 Score\n",
    "plt.subplot(1, 2, 2) \n",
    "plt.bar(distance_metrics, f1_results, color=['blue', 'green', 'red'])\n",
    "plt.title('F1 Score vs Distance Metrics')\n",
    "plt.xlabel('Distance Metric')\n",
    "plt.ylabel('F1 Score')\n",
    "plt.grid(True)\n",
    "\n",
    "print(f\" Euclidian Accuracy: {accuracy_results[0]}\")\n",
    "print(f\" L1 Accuracy: {accuracy_results[1]}\")\n",
    "print(f\" cosine Accuracy: {accuracy_results[2]}\")\n",
    "print(f\" Euclidian F1 score: {f1_results[0]}\")\n",
    "print(f\" L1 F1 score: {f1_results[1]}\")\n",
    "print(f\" cosine F1 score: {f1_results[2]}\")"
   ]
  },
  {
   "cell_type": "markdown",
   "metadata": {},
   "source": [
    "#### Analysis on Different types of Distance Metrics used in KNN Classifier where k = 15:  \n",
    "All the Distance metrics gave out similiar scores in accuracy and F1 scores but if we were to choose the best metric out of Euclidian, L1 (Manhattan) or Cosine, L1 (93.8%) would be the choice to go with as it has slightly higher Accuracy than the Euclidean (93.5%) and Cosine (93.2%) metrics. The L1 (0.86) F1 score is also marginally higher with Euclidean (0.852) a close second and Cosine (0.851) coming in at last"
   ]
  },
  {
   "cell_type": "code",
   "execution_count": null,
   "metadata": {},
   "outputs": [],
   "source": []
  }
 ],
 "metadata": {
  "colab": {
   "provenance": []
  },
  "kernelspec": {
   "display_name": "Python 3 (ipykernel)",
   "language": "python",
   "name": "python3"
  },
  "language_info": {
   "codemirror_mode": {
    "name": "ipython",
    "version": 3
   },
   "file_extension": ".py",
   "mimetype": "text/x-python",
   "name": "python",
   "nbconvert_exporter": "python",
   "pygments_lexer": "ipython3",
   "version": "3.12.4"
  }
 },
 "nbformat": 4,
 "nbformat_minor": 4
}
